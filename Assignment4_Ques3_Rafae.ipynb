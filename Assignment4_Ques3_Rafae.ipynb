{
 "cells": [
  {
   "cell_type": "code",
   "execution_count": 1,
   "metadata": {},
   "outputs": [],
   "source": [
    "#importing libraries\n",
    "import numpy as np\n",
    "import matplotlib.pyplot as plt  \n",
    "import random              \n",
    "import pandas as pd\n",
    "from sklearn.cluster import KMeans"
   ]
  },
  {
   "cell_type": "code",
   "execution_count": 2,
   "metadata": {},
   "outputs": [],
   "source": [
    "#load the dataset\n",
    "datafile=pd.ExcelFile(r'/content/drive/MyDrive/Asssignment4_Data.xlsx') \n",
    "Train=pd.read_excel(datafile,'Train') \n",
    "Test=pd.read_excel(datafile,'Test')"
   ]
  },
  {
   "cell_type": "code",
   "execution_count": 3,
   "metadata": {},
   "outputs": [],
   "source": [
    "#Since excluding House ID i.e. first column, the next 8 columns are features, and last column in target,\n",
    "X_train=Train.iloc[:,1:9] \n",
    "Y_train=Train.iloc[:,-1]\n",
    "X_test=Test.iloc[:,1:9]\n",
    "Y_test=Train.iloc[:,-1]\n",
    "\n",
    "X_test_np=X_test.values"
   ]
  },
  {
   "cell_type": "code",
   "execution_count": 35,
   "metadata": {},
   "outputs": [],
   "source": [
    "#Scaling the data before applying KNN\n",
    "from sklearn.preprocessing import StandardScaler\n",
    "X_np = StandardScaler().fit_transform(X_train)\n",
    "X_np_test = StandardScaler().fit_transform(X_test) "
   ]
  },
  {
   "cell_type": "code",
   "execution_count": 36,
   "metadata": {},
   "outputs": [],
   "source": [
    "#To get centroids after assigning datapoints to k clusters\n",
    "def initialize_random_centroids(X,K):\n",
    "  np.random.seed(0)\n",
    "  centroids=[]\n",
    "  for i in range(K):\n",
    "    centroid = X[np.random.choice(range(20),replace=False)]\n",
    "    centroids.append(centroid)\n",
    "  return np.array(centroids)\n",
    "\n",
    "#Elucidian distance calculator\n",
    "def cal_distance(x,centroids ):\n",
    "    closest_centroid = np.argmin(np.sqrt(np.sum((x - centroids) ** 2, axis=1)))  \n",
    "    return closest_centroid\n",
    "\n",
    "\n",
    "#To update centroids\n",
    "def updateCentroids(x):\n",
    "    s=np.zeros(8)\n",
    "    for i in x:\n",
    "        s+=i\n",
    "    val=s/len(x)\n",
    "    return  val"
   ]
  },
  {
   "cell_type": "code",
   "execution_count": 42,
   "metadata": {},
   "outputs": [
    {
     "name": "stdout",
     "output_type": "stream",
     "text": [
      "[[ 0.30996242  0.59743799  0.33115521 -0.16844998 -0.30323922 -0.5\n",
      "  -0.32616404 -1.58035254]\n",
      " [-0.47836113 -0.4888129  -0.5046861   0.11703097 -0.30323922 -0.5\n",
      "  -0.32616404 -0.57572745]\n",
      " [-0.38200271 -0.4888129   1.28732888  0.03430638 -1.8194353  -0.5\n",
      "  -0.32616404 -0.42116975]]\n"
     ]
    }
   ],
   "source": [
    "#Setting k =3. As there are 3 classes in target, it seems more logical to start with 3 \n",
    "K=3\n",
    "#Taking values from training \n",
    "\n",
    "#Initializing \n",
    "centroid=initialize_random_centroids(X_np,K)\n",
    "\n",
    "#Printing initial centroids \n",
    "print(centroid)"
   ]
  },
  {
   "cell_type": "code",
   "execution_count": 43,
   "metadata": {},
   "outputs": [
    {
     "name": "stdout",
     "output_type": "stream",
     "text": [
      "[[ 2.73983851  2.76993978  1.9912119   2.80639134  1.21295687  2.41666667\n",
      "   2.28314826 -0.73028516]\n",
      " [-0.33504227 -0.34397945 -0.45921578 -0.3675297   0.10107974 -0.22222222\n",
      "  -0.23918696  0.25888416]\n",
      " [-0.15134767 -0.12672927  0.96860432 -0.03327908 -1.31403661 -0.5\n",
      "  -0.32616404 -0.80756401]]\n"
     ]
    }
   ],
   "source": [
    "#Creating loop to update centroids\n",
    "cluster=[]\n",
    "cluserpoints=[]\n",
    "for i in range(K):\n",
    "  cluster.append([])\n",
    "  cluserpoints.append([])\n",
    "for i in range(100):\n",
    "  for j in range(K):\n",
    "    cluster[j]=[]\n",
    "    cluserpoints[j]=[]\n",
    "  for j in range(20):\n",
    "    cluster[cal_distance(X_np[j],centroid)].append(X_np[j])\n",
    "    cluserpoints[cal_distance(X_np[j],centroid)].append(j)\n",
    "  for j in range(K):\n",
    "    centroid[j]=updateCentroids(cluster[j])\n",
    "\n",
    "\n",
    "#Printing updated centroids\n",
    "print(centroid)"
   ]
  },
  {
   "cell_type": "code",
   "execution_count": 44,
   "metadata": {},
   "outputs": [],
   "source": [
    "#Creating new 'Class' column as target column by setting Apartment=0, Condo=1, House=2\n",
    "Train['Class']=Train['Construction type'].map({'Apartment':0,'Condo':1,'House':2}) \n",
    "Test['Class']=Test['Construction type'].map({'Apartment':0,'Condo':1,'House':2})"
   ]
  },
  {
   "cell_type": "code",
   "execution_count": 45,
   "metadata": {},
   "outputs": [
    {
     "name": "stdout",
     "output_type": "stream",
     "text": [
      "0.2\n",
      "0.0\n",
      "0.6\n",
      "0.0\n",
      "0.0\n"
     ]
    }
   ],
   "source": [
    "#Predictions for test data and accuracy\n",
    "X_axis=[]\n",
    "Y_axis=[]\n",
    "for k in range(1,6):\n",
    "  match=0.0\n",
    "  accuracy=0.0\n",
    "  for i in range (5):\n",
    "    neighbor=[]\n",
    "    majority=np.zeros(3)\n",
    "    for j in range(20):\n",
    "      neighbor.append((np.sqrt(np.sum((X_test_np[i] - X_np[j]) ** 2)),j))\n",
    "    neighbor=sorted(neighbor)\n",
    "    k_nearest=neighbor[:k]\n",
    "    for l in k_nearest:\n",
    "      majority[Train.iloc[l[1],10]]+=1\n",
    "    if np.argmax(majority)==Test.iloc[i,10]:\n",
    "      match+=1\n",
    "  accuracy=match/5\n",
    "  Y_axis.append(accuracy)\n",
    "  X_axis.append(k)\n",
    "  print(accuracy)"
   ]
  },
  {
   "cell_type": "code",
   "execution_count": 46,
   "metadata": {},
   "outputs": [
    {
     "data": {
      "image/png": "[encoded data removed]",
      "text/plain": [
       "<Figure size 432x288 with 1 Axes>"
      ]
     },
     "metadata": {
      "needs_background": "light"
     },
     "output_type": "display_data"
    }
   ],
   "source": [
    "#Plotting accuracy \n",
    "plt.plot(X_axis, Y_axis)\n",
    "plt.ylabel('Accuracy')\n",
    "plt.xlabel('Number of K neighbors')\n",
    "plt.title('Accuracy Plot')\n",
    "plt.show()"
   ]
  },
  {
   "cell_type": "markdown",
   "metadata": {},
   "source": [
    "According to the above plot, the accuracy was highest 60% when k was 3 for different numbers of neighbors ranging 1 to 5. So, optimal number of k is 3 when we scale the data. Without scaling, a flat line was observed with accuracy = 40%. Thus, scaling improves accuracy here. \n",
    "Finally, optimal number of k is 3. \n"
   ]
  },
  {
   "cell_type": "markdown",
   "metadata": {},
   "source": []
  }
 ],
 "metadata": {
  "kernelspec": {
   "display_name": "Python 3.10.1 64-bit",
   "language": "python",
   "name": "python3"
  },
  "language_info": {
   "codemirror_mode": {
    "name": "ipython",
    "version": 3
   },
   "file_extension": ".py",
   "mimetype": "text/x-python",
   "name": "python",
   "nbconvert_exporter": "python",
   "pygments_lexer": "ipython3",
   "version": "3.10.1"
  },
  "orig_nbformat": 4,
  "vscode": {
   "interpreter": {
    "hash": "5722daad9755055b013a651651e76bfefcd0039befef69efb03fa00fbea6a530"
   }
  }
 },
 "nbformat": 4,
 "nbformat_minor": 2
}
