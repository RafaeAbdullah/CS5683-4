{
 "cells": [
  {
   "cell_type": "code",
   "execution_count": 2,
   "metadata": {},
   "outputs": [],
   "source": [
    "#importing libraries\n",
    "import numpy as np\n",
    "import pandas as pd\n"
   ]
  },
  {
   "cell_type": "code",
   "execution_count": 3,
   "metadata": {},
   "outputs": [],
   "source": [
    "#Load the dataset\n",
    "housing_data = pd.ExcelFile(r'/content/drive/MyDrive/Asssignment4_Data.xlsx') \n",
    "test_data = pd.read_excel(housing_data, 'Test')\n"
   ]
  },
  {
   "cell_type": "code",
   "execution_count": 9,
   "metadata": {},
   "outputs": [
    {
     "name": "stdout",
     "output_type": "stream",
     "text": [
      "1.28205e-06\n",
      "3.686407199999999e-07\n",
      "1.3195104975359998e-05\n",
      "House#24 is House\n"
     ]
    }
   ],
   "source": [
    "#House ID 24\n",
    "\n",
    "apt_probability = (0.1 * 0.6 * 0.1 * 0.55 * 0.5 * 0.2 * 0.37 * 0.03) *(7/20)\n",
    "print(apt_probability)\n",
    "\n",
    "condo_probability = (0.09 * 0.6 * 0.15 * 0.43 * 0.16 * 0.21 * 0.35 * 0.03) *(6/20)\n",
    "print(condo_probability)\n",
    "\n",
    "house_probability = (0.59 * 0.09 * 0.18 * 0.88 * 0.58 * 0.56 * 0.69 * 0.02) *(7/20)\n",
    "print(house_probability)\n",
    "\n",
    "#MAP rule\n",
    "map_classify = max(apt_probability, house_probability, condo_probability)\n",
    "if (map_classify==apt_probability):\n",
    "  print(\"House#24 is Apartment\")\n",
    "if (map_classify==condo_probability):\n",
    "  print(\"House#24 is Condo\")\n",
    "if (map_classify==house_probability):\n",
    "  print(\"House#24 is House\")\n"
   ]
  },
  {
   "cell_type": "code",
   "execution_count": 11,
   "metadata": {},
   "outputs": [
    {
     "name": "stdout",
     "output_type": "stream",
     "text": [
      "2.2276800000000003e-07\n",
      "1.81388592e-07\n",
      "2.7216000000000004e-14\n",
      "House#25 is Apartment\n"
     ]
    }
   ],
   "source": [
    "#House ID 25\n",
    "\n",
    "apt_probability = (0.1 * 0.6 * 0.05 * 0.52 * 0.3 * 0.2 * 0.34 * 0.02) *(7/20)\n",
    "print(apt_probability)\n",
    "\n",
    "condo_probability = (0.08 * 0.6 * 0.07 * 0.41 * 0.33 * 0.19 * 0.35 * 0.02) *(6/20)\n",
    "print(condo_probability)\n",
    "\n",
    "house_probability = (0.00002 * 0.16 * 0.09 * 0.36 * 0.25 * 0.01 * 0.15 * 0.002) *(7/20)\n",
    "print(house_probability)\n",
    "\n",
    "#MAP rule\n",
    "map_classify = max(apt_probability, house_probability, condo_probability)\n",
    "if (map_classify==apt_probability):\n",
    "  print(\"House#25 is Apartment\")\n",
    "if (map_classify==condo_probability):\n",
    "  print(\"House#25 is Condo\")\n",
    "if (map_classify==house_probability):\n",
    "  print(\"House#25 is House\")"
   ]
  },
  {
   "cell_type": "code",
   "execution_count": 12,
   "metadata": {},
   "outputs": [
    {
     "name": "stdout",
     "output_type": "stream",
     "text": [
      "2.541689952479999e-08\n",
      "2.4100543578969e-07\n",
      "1.0282166017200002e-10\n",
      "House#26 is Condo\n"
     ]
    }
   ],
   "source": [
    "#House ID 26\n",
    "apt_probability = (0.1 * 0.58 * 0.048 * 0.569 * 0.3 * 0.295 * 0.37 * 0.0014) *(7/20)\n",
    "print(apt_probability)\n",
    "\n",
    "condo_probability = (0.085 * 0.57 * 0.116 * 0.433 * 0.33 * 0.247 * 0.45 * 0.009) *(6/20)\n",
    "print(condo_probability)\n",
    "\n",
    "house_probability = (0.0001 * 0.198 * 0.147 * 1.6 * 0.23 * 0.265 * 0.69 * 0.0015) *(7/20)\n",
    "print(house_probability)\n",
    "\n",
    "#MAP rule\n",
    "map_classify = max(apt_probability, house_probability, condo_probability)\n",
    "if (map_classify==apt_probability):\n",
    "  print(\"House#26 is Apartment\")\n",
    "if (map_classify==condo_probability):\n",
    "  print(\"House#26 is Condo\")\n",
    "if (map_classify==house_probability):\n",
    "  print(\"House#26 is House\")"
   ]
  },
  {
   "cell_type": "code",
   "execution_count": 13,
   "metadata": {},
   "outputs": [
    {
     "name": "stdout",
     "output_type": "stream",
     "text": [
      "7.077140273e-07\n",
      "5.550249600000001e-07\n",
      "4.779172124999999e-16\n",
      "House#27 is Apartment\n"
     ]
    }
   ],
   "source": [
    "#House ID 27\n",
    "apt_probability = (0.095 * 0.61 * 0.097 * 0.5 * 0.529 * 0.2 * 0.34 * 0.02) *(7/20)\n",
    "print(apt_probability)\n",
    "\n",
    "condo_probability = (0.08 * 0.63 * 0.138 * 0.4 * 0.5 * 0.19 * 0.35 * 0.02) *(6/20)\n",
    "print(condo_probability)\n",
    "\n",
    "house_probability = (0.000000015 * 0.095 * 0.169 * 0.2 * 0.42 * 0.015 * 0.15 * 0.03) *(7/20)\n",
    "print(house_probability)\n",
    "\n",
    "#MAP rule\n",
    "map_classify = max(apt_probability, house_probability, condo_probability)\n",
    "if (map_classify==apt_probability):\n",
    "  print(\"House#27 is Apartment\")\n",
    "if (map_classify==condo_probability):\n",
    "  print(\"House#27 is Condo\")\n",
    "if (map_classify==house_probability):\n",
    "  print(\"House#27 is House\")"
   ]
  },
  {
   "cell_type": "code",
   "execution_count": 14,
   "metadata": {},
   "outputs": [
    {
     "name": "stdout",
     "output_type": "stream",
     "text": [
      "8.643119748479998e-07\n",
      "3.3006204e-07\n",
      "1.5372438681600006e-31\n",
      "House#28 is Apartment\n"
     ]
    }
   ],
   "source": [
    "#House ID 28\n",
    "apt_probability = (0.048 * 0.61 * 0.122 * 0.519 * 0.3 * 0.6 * 0.37 * 0.02) *(7/20)\n",
    "print(apt_probability)\n",
    "\n",
    "condo_probability = (0.05 * 0.63 * 0.14 * 0.4 * 0.33 * 0.21 * 0.45 * 0.02) *(6/20)\n",
    "print(condo_probability)\n",
    "\n",
    "house_probability = (0.0000000000000000000000000066 * 0.16 * 0.13 * 1.2 * 0.23 * 0.56 * 0.69 * 0.03) *(7/20)\n",
    "print(house_probability)\n",
    "\n",
    "#MAP rule\n",
    "map_classify = max(apt_probability, house_probability, condo_probability)\n",
    "if (map_classify==apt_probability):\n",
    "  print(\"House#28 is Apartment\")\n",
    "if (map_classify==condo_probability):\n",
    "  print(\"House#28 is Condo\")\n",
    "if (map_classify==house_probability):\n",
    "  print(\"House#28 is House\") \n"
   ]
  }
 ],
 "metadata": {
  "kernelspec": {
   "display_name": "Python 3.10.1 64-bit",
   "language": "python",
   "name": "python3"
  },
  "language_info": {
   "codemirror_mode": {
    "name": "ipython",
    "version": 3
   },
   "file_extension": ".py",
   "mimetype": "text/x-python",
   "name": "python",
   "nbconvert_exporter": "python",
   "pygments_lexer": "ipython3",
   "version": "3.10.1"
  },
  "orig_nbformat": 4,
  "vscode": {
   "interpreter": {
    "hash": "5722daad9755055b013a651651e76bfefcd0039befef69efb03fa00fbea6a530"
   }
  }
 },
 "nbformat": 4,
 "nbformat_minor": 2
}
